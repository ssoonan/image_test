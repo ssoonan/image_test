{
 "cells": [
  {
   "cell_type": "code",
   "execution_count": 13,
   "metadata": {},
   "outputs": [],
   "source": [
    "%matplotlib inline"
   ]
  },
  {
   "cell_type": "code",
   "execution_count": 10,
   "metadata": {},
   "outputs": [],
   "source": [
    "import imagehash"
   ]
  },
  {
   "cell_type": "code",
   "execution_count": 14,
   "metadata": {},
   "outputs": [],
   "source": [
    "import matplotlib.pyplot as plt\n",
    "import numpy as np\n",
    "import skimage.io as sk\n",
    "from skimage.measure import compare_ssim, compare_mse, compare_psnr\n",
    "from skimage import img_as_float\n",
    "from scipy.ndimage import gaussian_filter\n",
    "from skimage.morphology import reconstruction\n",
    "from skimage.transform import resize\n",
    "\n",
    "import os"
   ]
  },
  {
   "cell_type": "code",
   "execution_count": 15,
   "metadata": {},
   "outputs": [],
   "source": [
    "list_dir = [folder for folder in os.listdir() if os.path.isdir(folder) and not folder.startswith('.') ]\n",
    "# 지금 있는 이미지 폴더들의 리스트\n",
    "\n",
    "target_dir = list_dir[0]\n",
    "list_files = os.listdir(target_dir)\n",
    "# 그 폴더들 중, 원하는 폴더들을 선택\n",
    "\n",
    "standard_image_name = list_files[list_files.index('0.jpg')]"
   ]
  },
  {
   "cell_type": "code",
   "execution_count": 21,
   "metadata": {},
   "outputs": [
    {
     "name": "stderr",
     "output_type": "stream",
     "text": [
      "/usr/local/lib/python3.6/dist-packages/skimage/transform/_warps.py:105: UserWarning: The default mode, 'constant', will be changed to 'reflect' in skimage 0.15.\n",
      "  warn(\"The default mode, 'constant', will be changed to 'reflect' in \"\n",
      "/usr/local/lib/python3.6/dist-packages/skimage/transform/_warps.py:110: UserWarning: Anti-aliasing will be enabled by default in skimage 0.15 to avoid aliasing artifacts when down-sampling images.\n",
      "  warn(\"Anti-aliasing will be enabled by default in skimage 0.15 to \"\n"
     ]
    }
   ],
   "source": [
    "standard_image = os.path.join(target_dir, standard_image_name)\n",
    "standard_image_read = sk.imread(standard_image, as_gray=True, plugin='pil')\n",
    "standard_image_read = resize(standard_image_read, (328, 246))"
   ]
  },
  {
   "cell_type": "code",
   "execution_count": 32,
   "metadata": {},
   "outputs": [
    {
     "ename": "AttributeError",
     "evalue": "'numpy.ndarray' object has no attribute 'convert'",
     "output_type": "error",
     "traceback": [
      "\u001b[0;31m---------------------------------------------------------------------------\u001b[0m",
      "\u001b[0;31mAttributeError\u001b[0m                            Traceback (most recent call last)",
      "\u001b[0;32m<ipython-input-32-430dc9515fef>\u001b[0m in \u001b[0;36m<module>\u001b[0;34m()\u001b[0m\n\u001b[0;32m----> 1\u001b[0;31m \u001b[0mdashed\u001b[0m \u001b[0;34m=\u001b[0m \u001b[0mimagehash\u001b[0m\u001b[0;34m.\u001b[0m\u001b[0mdhash\u001b[0m\u001b[0;34m(\u001b[0m\u001b[0mstandard_image_read\u001b[0m\u001b[0;34m)\u001b[0m\u001b[0;34m\u001b[0m\u001b[0m\n\u001b[0m\u001b[1;32m      2\u001b[0m \u001b[0mprint\u001b[0m\u001b[0;34m(\u001b[0m\u001b[0mdashed\u001b[0m\u001b[0;34m)\u001b[0m\u001b[0;34m\u001b[0m\u001b[0m\n",
      "\u001b[0;32m/usr/local/lib/python3.6/dist-packages/ImageHash-4.0-py3.6.egg/imagehash/__init__.py\u001b[0m in \u001b[0;36mdhash\u001b[0;34m(image, hash_size)\u001b[0m\n",
      "\u001b[0;31mAttributeError\u001b[0m: 'numpy.ndarray' object has no attribute 'convert'"
     ]
    }
   ],
   "source": []
  },
  {
   "cell_type": "code",
   "execution_count": 43,
   "metadata": {},
   "outputs": [
    {
     "data": {
      "text/plain": [
       "array([[0.8071149 , 0.8071149 , 0.8071149 , ..., 0.79173412, 0.78781255,\n",
       "        0.78781255],\n",
       "       [0.8071149 , 0.8071149 , 0.8071149 , ..., 0.79173412, 0.78781255,\n",
       "        0.78781255],\n",
       "       [0.8071149 , 0.8071149 , 0.8071149 , ..., 0.79173412, 0.79173412,\n",
       "        0.78781255],\n",
       "       ...,\n",
       "       [0.67466745, 0.71780471, 0.73741255, ..., 0.70016902, 0.69624745,\n",
       "        0.69624745],\n",
       "       [0.65898118, 0.70604   , 0.73741255, ..., 0.69624745, 0.69624745,\n",
       "        0.69232588],\n",
       "       [0.73741255, 0.71780471, 0.70604   , ..., 0.69624745, 0.69232588,\n",
       "        0.69232588]])"
      ]
     },
     "execution_count": 43,
     "metadata": {},
     "output_type": "execute_result"
    }
   ],
   "source": [
    "standard_image_read"
   ]
  },
  {
   "cell_type": "code",
   "execution_count": 25,
   "metadata": {},
   "outputs": [],
   "source": [
    "from PIL import Image"
   ]
  },
  {
   "cell_type": "code",
   "execution_count": 29,
   "metadata": {},
   "outputs": [],
   "source": [
    "a = Image.open(standard_image)"
   ]
  },
  {
   "cell_type": "code",
   "execution_count": 36,
   "metadata": {},
   "outputs": [
    {
     "name": "stderr",
     "output_type": "stream",
     "text": [
      "/usr/local/lib/python3.6/dist-packages/skimage/transform/_warps.py:105: UserWarning: The default mode, 'constant', will be changed to 'reflect' in skimage 0.15.\n",
      "  warn(\"The default mode, 'constant', will be changed to 'reflect' in \"\n",
      "/usr/local/lib/python3.6/dist-packages/skimage/transform/_warps.py:110: UserWarning: Anti-aliasing will be enabled by default in skimage 0.15 to avoid aliasing artifacts when down-sampling images.\n",
      "  warn(\"Anti-aliasing will be enabled by default in skimage 0.15 to \"\n"
     ]
    },
    {
     "ename": "NameError",
     "evalue": "name 'dashed_2' is not defined",
     "output_type": "error",
     "traceback": [
      "\u001b[0;31m---------------------------------------------------------------------------\u001b[0m",
      "\u001b[0;31mNameError\u001b[0m                                 Traceback (most recent call last)",
      "\u001b[0;32m<ipython-input-36-d17d4dda33b5>\u001b[0m in \u001b[0;36m<module>\u001b[0;34m()\u001b[0m\n\u001b[1;32m      6\u001b[0m \u001b[0mb\u001b[0m \u001b[0;34m=\u001b[0m \u001b[0mImage\u001b[0m\u001b[0;34m.\u001b[0m\u001b[0mopen\u001b[0m\u001b[0;34m(\u001b[0m\u001b[0mstandard_image\u001b[0m\u001b[0;34m)\u001b[0m\u001b[0;34m\u001b[0m\u001b[0m\n\u001b[1;32m      7\u001b[0m \u001b[0mdashed_1\u001b[0m \u001b[0;34m=\u001b[0m \u001b[0mimagehash\u001b[0m\u001b[0;34m.\u001b[0m\u001b[0mdhash\u001b[0m\u001b[0;34m(\u001b[0m\u001b[0mb\u001b[0m\u001b[0;34m)\u001b[0m\u001b[0;34m\u001b[0m\u001b[0m\n\u001b[0;32m----> 8\u001b[0;31m \u001b[0mprint\u001b[0m\u001b[0;34m(\u001b[0m\u001b[0mdashed_0\u001b[0m\u001b[0;34m,\u001b[0m \u001b[0mdashed_1\u001b[0m\u001b[0;34m,\u001b[0m \u001b[0mdashed_2\u001b[0m\u001b[0;34m)\u001b[0m\u001b[0;34m\u001b[0m\u001b[0m\n\u001b[0m",
      "\u001b[0;31mNameError\u001b[0m: name 'dashed_2' is not defined"
     ]
    }
   ],
   "source": [
    "dashed_0 = imagehash.dhash(a)\n",
    "standard_image_name = list_files[list_files.index('1.jpg')]\n",
    "standard_image = os.path.join(target_dir, standard_image_name)\n",
    "standard_image_read = sk.imread(standard_image, as_gray=True, plugin='pil')\n",
    "standard_image_read = resize(standard_image_read, (328, 246))\n",
    "b = Image.open(standard_image)\n",
    "dashed_1 = imagehash.dhash(b)\n"
   ]
  },
  {
   "cell_type": "code",
   "execution_count": 40,
   "metadata": {},
   "outputs": [
    {
     "name": "stderr",
     "output_type": "stream",
     "text": [
      "/usr/local/lib/python3.6/dist-packages/skimage/transform/_warps.py:105: UserWarning: The default mode, 'constant', will be changed to 'reflect' in skimage 0.15.\n",
      "  warn(\"The default mode, 'constant', will be changed to 'reflect' in \"\n",
      "/usr/local/lib/python3.6/dist-packages/skimage/transform/_warps.py:110: UserWarning: Anti-aliasing will be enabled by default in skimage 0.15 to avoid aliasing artifacts when down-sampling images.\n",
      "  warn(\"Anti-aliasing will be enabled by default in skimage 0.15 to \"\n"
     ]
    }
   ],
   "source": [
    "standard_image_name = list_files[list_files.index('2.jpg')]\n",
    "standard_image = os.path.join(target_dir, standard_image_name)\n",
    "standard_image_read = sk.imread(standard_image, as_gray=True, plugin='pil')\n",
    "standard_image_read = resize(standard_image_read, (328, 246))\n",
    "c = Image.open(standard_image)\n",
    "dashed_2 = imagehash.dhash(c)"
   ]
  },
  {
   "cell_type": "code",
   "execution_count": 48,
   "metadata": {},
   "outputs": [
    {
     "name": "stdout",
     "output_type": "stream",
     "text": [
      "646425adc91b33b5\n"
     ]
    },
    {
     "name": "stderr",
     "output_type": "stream",
     "text": [
      "/usr/local/lib/python3.6/dist-packages/skimage/transform/_warps.py:105: UserWarning: The default mode, 'constant', will be changed to 'reflect' in skimage 0.15.\n",
      "  warn(\"The default mode, 'constant', will be changed to 'reflect' in \"\n",
      "/usr/local/lib/python3.6/dist-packages/skimage/transform/_warps.py:110: UserWarning: Anti-aliasing will be enabled by default in skimage 0.15 to avoid aliasing artifacts when down-sampling images.\n",
      "  warn(\"Anti-aliasing will be enabled by default in skimage 0.15 to \"\n"
     ]
    }
   ],
   "source": [
    "standard_image_name = list_files[list_files.index('0.jpg')]\n",
    "standard_image = os.path.join(target_dir, standard_image_name)\n",
    "standard_image_read = sk.imread(standard_image, as_gray=True, plugin='pil')\n",
    "standard_image_read = resize(standard_image_read, (328, 246))\n",
    "d = Image.open(standard_image)\n",
    "dashed_3 = imagehash.dhash(d)\n",
    "print(dashed_3)\n",
    "# dashed_0 - dashed_3"
   ]
  },
  {
   "cell_type": "code",
   "execution_count": 52,
   "metadata": {},
   "outputs": [
    {
     "name": "stdout",
     "output_type": "stream",
     "text": [
      "400c0f370b090900\n"
     ]
    }
   ],
   "source": [
    "print(dashed_0)"
   ]
  },
  {
   "cell_type": "code",
   "execution_count": 53,
   "metadata": {},
   "outputs": [
    {
     "name": "stdout",
     "output_type": "stream",
     "text": [
      "024c9f370b091900\n"
     ]
    }
   ],
   "source": [
    "print(dashed_1)"
   ]
  }
 ],
 "metadata": {
  "kernelspec": {
   "display_name": "Python 3",
   "language": "python",
   "name": "python3"
  },
  "language_info": {
   "codemirror_mode": {
    "name": "ipython",
    "version": 3
   },
   "file_extension": ".py",
   "mimetype": "text/x-python",
   "name": "python",
   "nbconvert_exporter": "python",
   "pygments_lexer": "ipython3",
   "version": "3.6.3"
  }
 },
 "nbformat": 4,
 "nbformat_minor": 2
}
