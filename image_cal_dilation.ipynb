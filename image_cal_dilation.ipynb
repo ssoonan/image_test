{
 "cells": [
  {
   "cell_type": "code",
   "execution_count": 2,
   "metadata": {},
   "outputs": [],
   "source": [
    "%matplotlib inline\n",
    "import matplotlib.pyplot as plt\n",
    "import numpy as np\n",
    "import skimage.io as sk\n",
    "from skimage.measure import compare_ssim, compare_mse, compare_psnr\n",
    "from skimage import img_as_float\n",
    "from scipy.ndimage import gaussian_filter\n",
    "from skimage.morphology import reconstruction\n",
    "from skimage.transform import resize\n",
    "\n",
    "import os"
   ]
  },
  {
   "cell_type": "code",
   "execution_count": 3,
   "metadata": {},
   "outputs": [],
   "source": [
    "def image_amplify(image):\n",
    "    image_read_float = img_as_float(image)\n",
    "    image_read_float = gaussian_filter(image_read_float, 1)\n",
    "    mask = image_read_float\n",
    "    h = 0.3\n",
    "    seed = image_read_float - h\n",
    "    dilated = reconstruction(seed, mask, method='dilation')\n",
    "    after_image = image_read_float - dilated\n",
    "    return after_image"
   ]
  },
  {
   "cell_type": "code",
   "execution_count": 1,
   "metadata": {
    "scrolled": true
   },
   "outputs": [
    {
     "ename": "NameError",
     "evalue": "name 'os' is not defined",
     "output_type": "error",
     "traceback": [
      "\u001b[0;31m---------------------------------------------------------------------------\u001b[0m",
      "\u001b[0;31mNameError\u001b[0m                                 Traceback (most recent call last)",
      "\u001b[0;32m<ipython-input-1-e746c8444b4b>\u001b[0m in \u001b[0;36m<module>\u001b[0;34m()\u001b[0m\n\u001b[0;32m----> 1\u001b[0;31m \u001b[0mlist_dir\u001b[0m \u001b[0;34m=\u001b[0m \u001b[0;34m[\u001b[0m\u001b[0mfolder\u001b[0m \u001b[0;32mfor\u001b[0m \u001b[0mfolder\u001b[0m \u001b[0;32min\u001b[0m \u001b[0mos\u001b[0m\u001b[0;34m.\u001b[0m\u001b[0mlistdir\u001b[0m\u001b[0;34m(\u001b[0m\u001b[0;34m)\u001b[0m \u001b[0;32mif\u001b[0m \u001b[0mos\u001b[0m\u001b[0;34m.\u001b[0m\u001b[0mpath\u001b[0m\u001b[0;34m.\u001b[0m\u001b[0misdir\u001b[0m\u001b[0;34m(\u001b[0m\u001b[0mfolder\u001b[0m\u001b[0;34m)\u001b[0m \u001b[0;32mand\u001b[0m \u001b[0;32mnot\u001b[0m \u001b[0mfolder\u001b[0m\u001b[0;34m.\u001b[0m\u001b[0mstartswith\u001b[0m\u001b[0;34m(\u001b[0m\u001b[0;34m'.'\u001b[0m\u001b[0;34m)\u001b[0m \u001b[0;34m]\u001b[0m\u001b[0;34m\u001b[0m\u001b[0m\n\u001b[0m\u001b[1;32m      2\u001b[0m \u001b[0;31m# 지금 있는 이미지 폴더들의 리스트\u001b[0m\u001b[0;34m\u001b[0m\u001b[0;34m\u001b[0m\u001b[0m\n\u001b[1;32m      3\u001b[0m \u001b[0;34m\u001b[0m\u001b[0m\n\u001b[1;32m      4\u001b[0m \u001b[0mtarget_dir\u001b[0m \u001b[0;34m=\u001b[0m \u001b[0mlist_dir\u001b[0m\u001b[0;34m[\u001b[0m\u001b[0;36m0\u001b[0m\u001b[0;34m]\u001b[0m\u001b[0;34m\u001b[0m\u001b[0m\n\u001b[1;32m      5\u001b[0m \u001b[0mlist_files\u001b[0m \u001b[0;34m=\u001b[0m \u001b[0mos\u001b[0m\u001b[0;34m.\u001b[0m\u001b[0mlistdir\u001b[0m\u001b[0;34m(\u001b[0m\u001b[0mtarget_dir\u001b[0m\u001b[0;34m)\u001b[0m\u001b[0;34m\u001b[0m\u001b[0m\n",
      "\u001b[0;31mNameError\u001b[0m: name 'os' is not defined"
     ]
    }
   ],
   "source": [
    "list_dir = [folder for folder in os.listdir() if os.path.isdir(folder) and not folder.startswith('.') ]\n",
    "# 지금 있는 이미지 폴더들의 리스트\n",
    "\n",
    "target_dir = list_dir[0]\n",
    "list_files = os.listdir(target_dir)\n",
    "# 그 폴더들 중, 원하는 폴더들을 선택\n",
    "\n",
    "standard_image_name = list_files[list_files.index('0.jpg')]\n",
    "# 기준이 되는 이미지 선택\n",
    "\n",
    "standard_image = os.path.join(target_dir, standard_image_name)\n",
    "standard_image_read = sk.imread(standard_image, as_gray=True)\n",
    "standard_image_read = resize(standard_image_read, (328, 246))\n",
    "standard_image_read = image_amplify(standard_image_read)\n",
    "\n",
    "list_files_with_ssim = [[filename,] for filename in list_files]\n",
    "i = 0\n",
    "for file in list_files_with_ssim:\n",
    "    other_file = os.path.join(target_dir, file[0])\n",
    "    other_file_read = sk.imread(other_file, as_gray=True)\n",
    "    other_file_read = resize(other_file_read, (328, 246))\n",
    "    other_file_read = image_amplify(other_file_read)\n",
    "    file.append(compare_ssim(standard_image_read, other_file_read))\n",
    "    i += 1\n",
    "    if i % 100 ==0:\n",
    "        print(\"{} images are done\".format(i))\n",
    "sorted_list_files_with_ssim = sorted(list_files_with_ssim, key=lambda file:file[1], reverse=True)\n",
    "selected_list_files_with_ssim = sorted_list_files_with_ssim[:20]\n",
    "\n",
    "fig = plt.figure(figsize=(16,16))\n",
    "columns = 5\n",
    "rows = 4\n",
    "for i, image_before in enumerate(selected_list_files_with_ssim, start=1):\n",
    "    image = os.path.join(target_dir, image_before[0])\n",
    "    image = plt.imread(image)\n",
    "    fig.add_subplot(rows, columns, i)\n",
    "    plt.imshow(image)\n",
    "plt.show()"
   ]
  },
  {
   "cell_type": "code",
   "execution_count": 46,
   "metadata": {},
   "outputs": [],
   "source": [
    "from tinydb import TinyDB\n",
    "from skimage.transform import resize"
   ]
  },
  {
   "cell_type": "code",
   "execution_count": 47,
   "metadata": {
    "scrolled": true
   },
   "outputs": [
    {
     "name": "stderr",
     "output_type": "stream",
     "text": [
      "/usr/local/lib/python3.6/dist-packages/skimage/transform/_warps.py:105: UserWarning: The default mode, 'constant', will be changed to 'reflect' in skimage 0.15.\n",
      "  warn(\"The default mode, 'constant', will be changed to 'reflect' in \"\n",
      "/usr/local/lib/python3.6/dist-packages/skimage/transform/_warps.py:110: UserWarning: Anti-aliasing will be enabled by default in skimage 0.15 to avoid aliasing artifacts when down-sampling images.\n",
      "  warn(\"Anti-aliasing will be enabled by default in skimage 0.15 to \"\n"
     ]
    },
    {
     "name": "stdout",
     "output_type": "stream",
     "text": [
      "100 images are done\n",
      "100 images are done\n",
      "100 images are done\n",
      "100 images are done\n",
      "100 images are done\n",
      "100 images are done\n",
      "100 images are done\n",
      "100 images are done\n",
      "100 images are done\n",
      "100 images are done\n",
      "100 images are done\n",
      "100 images are done\n",
      "100 images are done\n",
      "100 images are done\n",
      "100 images are done\n",
      "100 images are done\n",
      "100 images are done\n",
      "100 images are done\n",
      "100 images are done\n",
      "100 images are done\n",
      "100 images are done\n",
      "100 images are done\n",
      "100 images are done\n",
      "100 images are done\n",
      "100 images are done\n",
      "100 images are done\n",
      "100 images are done\n",
      "100 images are done\n",
      "100 images are done\n",
      "100 images are done\n",
      "100 images are done\n",
      "100 images are done\n",
      "100 images are done\n",
      "100 images are done\n",
      "100 images are done\n",
      "100 images are done\n",
      "100 images are done\n",
      "100 images are done\n",
      "100 images are done\n",
      "100 images are done\n",
      "100 images are done\n",
      "100 images are done\n",
      "100 images are done\n",
      "100 images are done\n",
      "100 images are done\n",
      "100 images are done\n",
      "100 images are done\n",
      "100 images are done\n",
      "100 images are done\n",
      "100 images are done\n",
      "100 images are done\n",
      "100 images are done\n",
      "100 images are done\n",
      "100 images are done\n"
     ]
    },
    {
     "name": "stderr",
     "output_type": "stream",
     "text": [
      "/usr/local/lib/python3.6/dist-packages/skimage/measure/_structural_similarity.py:149: UserWarning: Inputs have mismatched dtype.  Setting data_range based on X.dtype.\n",
      "  warn(\"Inputs have mismatched dtype.  Setting data_range based on \"\n"
     ]
    },
    {
     "name": "stdout",
     "output_type": "stream",
     "text": [
      "100 images are done\n",
      "100 images are done\n",
      "100 images are done\n",
      "100 images are done\n",
      "100 images are done\n",
      "100 images are done\n",
      "100 images are done\n",
      "100 images are done\n",
      "100 images are done\n",
      "100 images are done\n",
      "100 images are done\n",
      "100 images are done\n",
      "100 images are done\n",
      "100 images are done\n",
      "100 images are done\n",
      "100 images are done\n",
      "100 images are done\n",
      "100 images are done\n",
      "100 images are done\n",
      "100 images are done\n",
      "100 images are done\n",
      "100 images are done\n",
      "100 images are done\n",
      "100 images are done\n",
      "100 images are done\n",
      "100 images are done\n",
      "100 images are done\n",
      "100 images are done\n",
      "100 images are done\n",
      "100 images are done\n",
      "100 images are done\n",
      "100 images are done\n",
      "100 images are done\n",
      "100 images are done\n",
      "100 images are done\n",
      "100 images are done\n",
      "100 images are done\n",
      "100 images are done\n",
      "100 images are done\n",
      "100 images are done\n",
      "100 images are done\n",
      "100 images are done\n",
      "100 images are done\n",
      "100 images are done\n",
      "100 images are done\n",
      "100 images are done\n"
     ]
    }
   ],
   "source": [
    "jacket_db = TinyDB('./jacket_db.json')\n",
    "`for file in list_files:\n",
    "    standard_image_name = list_files[list_files.index(file)]\n",
    "    standard_image = os.path.join(target_dir, standard_image_name)\n",
    "    standard_image_read = sk.imread(standard_image, as_gray=True)\n",
    "    after_standard = image_amplify(standard_image_read)\n",
    "    list_files_with_ssim = [[filename,] for filename in list_files]\n",
    "    i = 0\n",
    "    for file_for_calcul in list_files_with_ssim:\n",
    "        other_file = os.path.join(target_dir, file_for_calcul[0])\n",
    "        other_file_read = sk.imread(other_file, as_gray=True)\n",
    "        other_file_read = resize(other_file_read, (328, 246))\n",
    "        other_file_read = image_amplify(other_file_read)\n",
    "        try:\n",
    "            file_for_calcul.append(compare_ssim(standard_image_read, other_file_read))\n",
    "        except:\n",
    "            file_for_calcul.append(0)\n",
    "            continue\n",
    "        i += 1\n",
    "        if i % 100 ==0:\n",
    "            print(\"{} images are done\".format(i))\n",
    "    sorted_list_files_with_ssim = sorted(list_files_with_ssim, key=lambda file:file[1], reverse=True)\n",
    "    selected_list_files_with_ssim = sorted_list_files_with_ssim[:20]\n",
    "    selected_list_files_with_ssim = [f[0] for f in selected_list_files_with_ssim]\n",
    "    jacket_db.insert({'filename': file, 'top_20': selected_list_files_with_ssim})"
   ]
  },
  {
   "cell_type": "code",
   "execution_count": 53,
   "metadata": {},
   "outputs": [
    {
     "data": {
      "text/plain": [
       "[{'filename': '60.jpg',\n",
       "  'top_20': ['57.jpg',\n",
       "   '23.jpg',\n",
       "   '60.jpg',\n",
       "   '42.jpg',\n",
       "   '62.jpg',\n",
       "   '61.jpg',\n",
       "   '63.jpg',\n",
       "   '17.jpg',\n",
       "   '59.jpg',\n",
       "   '50.jpg',\n",
       "   '98.jpg',\n",
       "   '21.jpg',\n",
       "   '0.jpg',\n",
       "   '46.jpg',\n",
       "   '3.jpg',\n",
       "   '2.jpg',\n",
       "   '47.jpg',\n",
       "   '20.jpg',\n",
       "   '1.jpg',\n",
       "   '45.jpg']}]"
      ]
     },
     "execution_count": 53,
     "metadata": {},
     "output_type": "execute_result"
    }
   ],
   "source": [
    "from tinydb import where\n",
    "jacket_db.search(where('filename')=='60.jpg')"
   ]
  },
  {
   "cell_type": "code",
   "execution_count": null,
   "metadata": {},
   "outputs": [],
   "source": []
  }
 ],
 "metadata": {
  "kernelspec": {
   "display_name": "Python 3",
   "language": "python",
   "name": "python3"
  },
  "language_info": {
   "codemirror_mode": {
    "name": "ipython",
    "version": 3
   },
   "file_extension": ".py",
   "mimetype": "text/x-python",
   "name": "python",
   "nbconvert_exporter": "python",
   "pygments_lexer": "ipython3",
   "version": "3.6.3"
  }
 },
 "nbformat": 4,
 "nbformat_minor": 2
}
